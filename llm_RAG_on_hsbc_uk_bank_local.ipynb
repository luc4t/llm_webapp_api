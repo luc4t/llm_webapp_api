{
  "nbformat": 4,
  "nbformat_minor": 0,
  "metadata": {
    "colab": {
      "provenance": [],
      "collapsed_sections": [
        "QZ_E1Ma1jKYT",
        "-6LGAl2AGj4j",
        "Ooplt3-YJJRb",
        "3klGmAwEDxDY",
        "gUMZZ3XKSb1A"
      ],
      "gpuType": "T4",
      "include_colab_link": true
    },
    "kernelspec": {
      "name": "python3",
      "display_name": "Python 3"
    },
    "language_info": {
      "name": "python"
    },
    "accelerator": "GPU"
  },
  "cells": [
    {
      "cell_type": "markdown",
      "metadata": {
        "id": "view-in-github",
        "colab_type": "text"
      },
      "source": [
        "<a href=\"https://colab.research.google.com/github/luc4t/llm_webapp_api/blob/main/llm_RAG_on_hsbc_uk_bank_local.ipynb\" target=\"_parent\"><img src=\"https://colab.research.google.com/assets/colab-badge.svg\" alt=\"Open In Colab\"/></a>"
      ]
    },
    {
      "cell_type": "markdown",
      "source": [
        "# Local LLM using RAG with HSBC UK Bank dataset\n",
        "Hi, my name is Vladimir, find implementation of RAG with local LLM.\n",
        "\n",
        "Answering questions on on [HSBC bank](https://www.hsbc.co.uk/) services using local LLM. Basically assistant that can help users with their questions with the bank.\n",
        "\n",
        "Google Colab subscription is advised.\n",
        "T4 GPU is enough. Overall usage is 12GB GPU RAM."
      ],
      "metadata": {
        "id": "h7OBSYLoGbEe"
      }
    },
    {
      "cell_type": "markdown",
      "source": [
        "## Installs, imports"
      ],
      "metadata": {
        "id": "QZ_E1Ma1jKYT"
      }
    },
    {
      "cell_type": "code",
      "source": [
        "pip install tiktoken FlagEmbedding ctransformers[cuda] huggingface-hub"
      ],
      "metadata": {
        "colab": {
          "base_uri": "https://localhost:8080/"
        },
        "id": "XI1vDVPCjeZT",
        "outputId": "03703d10-f150-4e2d-d5b6-5afa61ca6418"
      },
      "execution_count": null,
      "outputs": [
        {
          "output_type": "stream",
          "name": "stdout",
          "text": [
            "Collecting tiktoken\n",
            "  Downloading tiktoken-0.6.0-cp310-cp310-manylinux_2_17_x86_64.manylinux2014_x86_64.whl (1.8 MB)\n",
            "\u001b[?25l     \u001b[90m━━━━━━━━━━━━━━━━━━━━━━━━━━━━━━━━━━━━━━━━\u001b[0m \u001b[32m0.0/1.8 MB\u001b[0m \u001b[31m?\u001b[0m eta \u001b[36m-:--:--\u001b[0m\r\u001b[2K     \u001b[91m━━\u001b[0m\u001b[91m╸\u001b[0m\u001b[90m━━━━━━━━━━━━━━━━━━━━━━━━━━━━━━━━━━━━━\u001b[0m \u001b[32m0.1/1.8 MB\u001b[0m \u001b[31m3.6 MB/s\u001b[0m eta \u001b[36m0:00:01\u001b[0m\r\u001b[2K     \u001b[91m━━━━━━━━━━━━\u001b[0m\u001b[91m╸\u001b[0m\u001b[90m━━━━━━━━━━━━━━━━━━━━━━━━━━━\u001b[0m \u001b[32m0.6/1.8 MB\u001b[0m \u001b[31m8.4 MB/s\u001b[0m eta \u001b[36m0:00:01\u001b[0m\r\u001b[2K     \u001b[91m━━━━━━━━━━━━━━━━━━━━━━━━\u001b[0m\u001b[90m╺\u001b[0m\u001b[90m━━━━━━━━━━━━━━━\u001b[0m \u001b[32m1.1/1.8 MB\u001b[0m \u001b[31m10.6 MB/s\u001b[0m eta \u001b[36m0:00:01\u001b[0m\r\u001b[2K     \u001b[91m━━━━━━━━━━━━━━━━━━━━━━━━━━━━━━━━━━━━━━━\u001b[0m\u001b[91m╸\u001b[0m \u001b[32m1.8/1.8 MB\u001b[0m \u001b[31m12.9 MB/s\u001b[0m eta \u001b[36m0:00:01\u001b[0m\r\u001b[2K     \u001b[90m━━━━━━━━━━━━━━━━━━━━━━━━━━━━━━━━━━━━━━━━\u001b[0m \u001b[32m1.8/1.8 MB\u001b[0m \u001b[31m11.0 MB/s\u001b[0m eta \u001b[36m0:00:00\u001b[0m\n",
            "\u001b[?25hCollecting FlagEmbedding\n",
            "  Downloading FlagEmbedding-1.2.5.tar.gz (37 kB)\n",
            "  Preparing metadata (setup.py) ... \u001b[?25l\u001b[?25hdone\n",
            "Collecting ctransformers[cuda]\n",
            "  Downloading ctransformers-0.2.27-py3-none-any.whl (9.9 MB)\n",
            "\u001b[2K     \u001b[90m━━━━━━━━━━━━━━━━━━━━━━━━━━━━━━━━━━━━━━━━\u001b[0m \u001b[32m9.9/9.9 MB\u001b[0m \u001b[31m37.8 MB/s\u001b[0m eta \u001b[36m0:00:00\u001b[0m\n",
            "\u001b[?25hRequirement already satisfied: huggingface-hub in /usr/local/lib/python3.10/dist-packages (0.20.3)\n",
            "Requirement already satisfied: regex>=2022.1.18 in /usr/local/lib/python3.10/dist-packages (from tiktoken) (2023.12.25)\n",
            "Requirement already satisfied: requests>=2.26.0 in /usr/local/lib/python3.10/dist-packages (from tiktoken) (2.31.0)\n",
            "Requirement already satisfied: torch>=1.6.0 in /usr/local/lib/python3.10/dist-packages (from FlagEmbedding) (2.1.0+cu121)\n",
            "Requirement already satisfied: transformers>=4.33.0 in /usr/local/lib/python3.10/dist-packages (from FlagEmbedding) (4.38.1)\n",
            "Collecting datasets (from FlagEmbedding)\n",
            "  Downloading datasets-2.18.0-py3-none-any.whl (510 kB)\n",
            "\u001b[2K     \u001b[90m━━━━━━━━━━━━━━━━━━━━━━━━━━━━━━━━━━━━━━━━\u001b[0m \u001b[32m510.5/510.5 kB\u001b[0m \u001b[31m42.1 MB/s\u001b[0m eta \u001b[36m0:00:00\u001b[0m\n",
            "\u001b[?25hCollecting accelerate>=0.20.1 (from FlagEmbedding)\n",
            "  Downloading accelerate-0.27.2-py3-none-any.whl (279 kB)\n",
            "\u001b[2K     \u001b[90m━━━━━━━━━━━━━━━━━━━━━━━━━━━━━━━━━━━━━━━━\u001b[0m \u001b[32m280.0/280.0 kB\u001b[0m \u001b[31m37.9 MB/s\u001b[0m eta \u001b[36m0:00:00\u001b[0m\n",
            "\u001b[?25hCollecting sentence_transformers (from FlagEmbedding)\n",
            "  Downloading sentence_transformers-2.5.1-py3-none-any.whl (156 kB)\n",
            "\u001b[2K     \u001b[90m━━━━━━━━━━━━━━━━━━━━━━━━━━━━━━━━━━━━━━━━\u001b[0m \u001b[32m156.5/156.5 kB\u001b[0m \u001b[31m19.8 MB/s\u001b[0m eta \u001b[36m0:00:00\u001b[0m\n",
            "\u001b[?25hRequirement already satisfied: py-cpuinfo<10.0.0,>=9.0.0 in /usr/local/lib/python3.10/dist-packages (from ctransformers[cuda]) (9.0.0)\n",
            "Collecting nvidia-cublas-cu12 (from ctransformers[cuda])\n",
            "  Downloading nvidia_cublas_cu12-12.3.4.1-py3-none-manylinux1_x86_64.whl (412.6 MB)\n",
            "\u001b[2K     \u001b[90m━━━━━━━━━━━━━━━━━━━━━━━━━━━━━━━━━━━━━━━━\u001b[0m \u001b[32m412.6/412.6 MB\u001b[0m \u001b[31m3.9 MB/s\u001b[0m eta \u001b[36m0:00:00\u001b[0m\n",
            "\u001b[?25hCollecting nvidia-cuda-runtime-cu12 (from ctransformers[cuda])\n",
            "  Downloading nvidia_cuda_runtime_cu12-12.3.101-py3-none-manylinux1_x86_64.whl (867 kB)\n",
            "\u001b[2K     \u001b[90m━━━━━━━━━━━━━━━━━━━━━━━━━━━━━━━━━━━━━━━━\u001b[0m \u001b[32m867.7/867.7 kB\u001b[0m \u001b[31m51.2 MB/s\u001b[0m eta \u001b[36m0:00:00\u001b[0m\n",
            "\u001b[?25hRequirement already satisfied: filelock in /usr/local/lib/python3.10/dist-packages (from huggingface-hub) (3.13.1)\n",
            "Requirement already satisfied: fsspec>=2023.5.0 in /usr/local/lib/python3.10/dist-packages (from huggingface-hub) (2023.6.0)\n",
            "Requirement already satisfied: tqdm>=4.42.1 in /usr/local/lib/python3.10/dist-packages (from huggingface-hub) (4.66.2)\n",
            "Requirement already satisfied: pyyaml>=5.1 in /usr/local/lib/python3.10/dist-packages (from huggingface-hub) (6.0.1)\n",
            "Requirement already satisfied: typing-extensions>=3.7.4.3 in /usr/local/lib/python3.10/dist-packages (from huggingface-hub) (4.10.0)\n",
            "Requirement already satisfied: packaging>=20.9 in /usr/local/lib/python3.10/dist-packages (from huggingface-hub) (23.2)\n",
            "Requirement already satisfied: numpy>=1.17 in /usr/local/lib/python3.10/dist-packages (from accelerate>=0.20.1->FlagEmbedding) (1.25.2)\n",
            "Requirement already satisfied: psutil in /usr/local/lib/python3.10/dist-packages (from accelerate>=0.20.1->FlagEmbedding) (5.9.5)\n",
            "Requirement already satisfied: safetensors>=0.3.1 in /usr/local/lib/python3.10/dist-packages (from accelerate>=0.20.1->FlagEmbedding) (0.4.2)\n",
            "Requirement already satisfied: charset-normalizer<4,>=2 in /usr/local/lib/python3.10/dist-packages (from requests>=2.26.0->tiktoken) (3.3.2)\n",
            "Requirement already satisfied: idna<4,>=2.5 in /usr/local/lib/python3.10/dist-packages (from requests>=2.26.0->tiktoken) (3.6)\n",
            "Requirement already satisfied: urllib3<3,>=1.21.1 in /usr/local/lib/python3.10/dist-packages (from requests>=2.26.0->tiktoken) (2.0.7)\n",
            "Requirement already satisfied: certifi>=2017.4.17 in /usr/local/lib/python3.10/dist-packages (from requests>=2.26.0->tiktoken) (2024.2.2)\n",
            "Requirement already satisfied: sympy in /usr/local/lib/python3.10/dist-packages (from torch>=1.6.0->FlagEmbedding) (1.12)\n",
            "Requirement already satisfied: networkx in /usr/local/lib/python3.10/dist-packages (from torch>=1.6.0->FlagEmbedding) (3.2.1)\n",
            "Requirement already satisfied: jinja2 in /usr/local/lib/python3.10/dist-packages (from torch>=1.6.0->FlagEmbedding) (3.1.3)\n",
            "Requirement already satisfied: triton==2.1.0 in /usr/local/lib/python3.10/dist-packages (from torch>=1.6.0->FlagEmbedding) (2.1.0)\n",
            "Requirement already satisfied: tokenizers<0.19,>=0.14 in /usr/local/lib/python3.10/dist-packages (from transformers>=4.33.0->FlagEmbedding) (0.15.2)\n",
            "Requirement already satisfied: pyarrow>=12.0.0 in /usr/local/lib/python3.10/dist-packages (from datasets->FlagEmbedding) (14.0.2)\n",
            "Requirement already satisfied: pyarrow-hotfix in /usr/local/lib/python3.10/dist-packages (from datasets->FlagEmbedding) (0.6)\n",
            "Collecting dill<0.3.9,>=0.3.0 (from datasets->FlagEmbedding)\n",
            "  Downloading dill-0.3.8-py3-none-any.whl (116 kB)\n",
            "\u001b[2K     \u001b[90m━━━━━━━━━━━━━━━━━━━━━━━━━━━━━━━━━━━━━━━━\u001b[0m \u001b[32m116.3/116.3 kB\u001b[0m \u001b[31m14.7 MB/s\u001b[0m eta \u001b[36m0:00:00\u001b[0m\n",
            "\u001b[?25hRequirement already satisfied: pandas in /usr/local/lib/python3.10/dist-packages (from datasets->FlagEmbedding) (1.5.3)\n",
            "Requirement already satisfied: xxhash in /usr/local/lib/python3.10/dist-packages (from datasets->FlagEmbedding) (3.4.1)\n",
            "Collecting multiprocess (from datasets->FlagEmbedding)\n",
            "  Downloading multiprocess-0.70.16-py310-none-any.whl (134 kB)\n",
            "\u001b[2K     \u001b[90m━━━━━━━━━━━━━━━━━━━━━━━━━━━━━━━━━━━━━━━━\u001b[0m \u001b[32m134.8/134.8 kB\u001b[0m \u001b[31m16.9 MB/s\u001b[0m eta \u001b[36m0:00:00\u001b[0m\n",
            "\u001b[?25hRequirement already satisfied: aiohttp in /usr/local/lib/python3.10/dist-packages (from datasets->FlagEmbedding) (3.9.3)\n",
            "Requirement already satisfied: scikit-learn in /usr/local/lib/python3.10/dist-packages (from sentence_transformers->FlagEmbedding) (1.2.2)\n",
            "Requirement already satisfied: scipy in /usr/local/lib/python3.10/dist-packages (from sentence_transformers->FlagEmbedding) (1.11.4)\n",
            "Requirement already satisfied: Pillow in /usr/local/lib/python3.10/dist-packages (from sentence_transformers->FlagEmbedding) (9.4.0)\n",
            "Requirement already satisfied: aiosignal>=1.1.2 in /usr/local/lib/python3.10/dist-packages (from aiohttp->datasets->FlagEmbedding) (1.3.1)\n",
            "Requirement already satisfied: attrs>=17.3.0 in /usr/local/lib/python3.10/dist-packages (from aiohttp->datasets->FlagEmbedding) (23.2.0)\n",
            "Requirement already satisfied: frozenlist>=1.1.1 in /usr/local/lib/python3.10/dist-packages (from aiohttp->datasets->FlagEmbedding) (1.4.1)\n",
            "Requirement already satisfied: multidict<7.0,>=4.5 in /usr/local/lib/python3.10/dist-packages (from aiohttp->datasets->FlagEmbedding) (6.0.5)\n",
            "Requirement already satisfied: yarl<2.0,>=1.0 in /usr/local/lib/python3.10/dist-packages (from aiohttp->datasets->FlagEmbedding) (1.9.4)\n",
            "Requirement already satisfied: async-timeout<5.0,>=4.0 in /usr/local/lib/python3.10/dist-packages (from aiohttp->datasets->FlagEmbedding) (4.0.3)\n",
            "Requirement already satisfied: MarkupSafe>=2.0 in /usr/local/lib/python3.10/dist-packages (from jinja2->torch>=1.6.0->FlagEmbedding) (2.1.5)\n",
            "Requirement already satisfied: python-dateutil>=2.8.1 in /usr/local/lib/python3.10/dist-packages (from pandas->datasets->FlagEmbedding) (2.8.2)\n",
            "Requirement already satisfied: pytz>=2020.1 in /usr/local/lib/python3.10/dist-packages (from pandas->datasets->FlagEmbedding) (2023.4)\n",
            "Requirement already satisfied: joblib>=1.1.1 in /usr/local/lib/python3.10/dist-packages (from scikit-learn->sentence_transformers->FlagEmbedding) (1.3.2)\n",
            "Requirement already satisfied: threadpoolctl>=2.0.0 in /usr/local/lib/python3.10/dist-packages (from scikit-learn->sentence_transformers->FlagEmbedding) (3.3.0)\n",
            "Requirement already satisfied: mpmath>=0.19 in /usr/local/lib/python3.10/dist-packages (from sympy->torch>=1.6.0->FlagEmbedding) (1.3.0)\n",
            "Requirement already satisfied: six>=1.5 in /usr/local/lib/python3.10/dist-packages (from python-dateutil>=2.8.1->pandas->datasets->FlagEmbedding) (1.16.0)\n",
            "Building wheels for collected packages: FlagEmbedding\n",
            "  Building wheel for FlagEmbedding (setup.py) ... \u001b[?25l\u001b[?25hdone\n",
            "  Created wheel for FlagEmbedding: filename=FlagEmbedding-1.2.5-py3-none-any.whl size=43015 sha256=cf46df77176aff428e12a86fe34f59ba14bfc6f4b1d6c62a37d3ae5fa19a89d8\n",
            "  Stored in directory: /root/.cache/pip/wheels/3e/b3/70/bb01bbe4d671974606861835ee82b86c0cf24c92cee749edd6\n",
            "Successfully built FlagEmbedding\n",
            "Installing collected packages: nvidia-cuda-runtime-cu12, nvidia-cublas-cu12, dill, tiktoken, multiprocess, ctransformers, accelerate, datasets, sentence_transformers, FlagEmbedding\n",
            "Successfully installed FlagEmbedding-1.2.5 accelerate-0.27.2 ctransformers-0.2.27 datasets-2.18.0 dill-0.3.8 multiprocess-0.70.16 nvidia-cublas-cu12-12.3.4.1 nvidia-cuda-runtime-cu12-12.3.101 sentence_transformers-2.5.1 tiktoken-0.6.0\n"
          ]
        }
      ]
    },
    {
      "cell_type": "code",
      "source": [
        "from ctransformers import AutoModelForCausalLM\n",
        "from FlagEmbedding import FlagModel, FlagReranker\n",
        "import re\n",
        "import tiktoken\n",
        "import os\n",
        "import datetime\n",
        "import numpy as np\n",
        "import pickle"
      ],
      "metadata": {
        "id": "nBDSHAzNjJvy"
      },
      "execution_count": null,
      "outputs": []
    },
    {
      "cell_type": "markdown",
      "source": [
        "## HSBC bank dataset\n",
        "Get hsbc bank dataset from this google drive: https://drive.google.com/file/d/1gFVEzyTBgDmMP48SjySA3skq8nwRxZZw/view?usp=sharing\n",
        "\n",
        "It is a text file, upload it here using function below."
      ],
      "metadata": {
        "id": "-6LGAl2AGj4j"
      }
    },
    {
      "cell_type": "code",
      "source": [
        "from google.colab import files\n",
        "uploaded = files.upload()"
      ],
      "metadata": {
        "colab": {
          "base_uri": "https://localhost:8080/",
          "height": 74
        },
        "id": "-GOTEDIMnbiN",
        "outputId": "c8ac9b69-7ce1-4b83-9731-986a75c3228c"
      },
      "execution_count": null,
      "outputs": [
        {
          "output_type": "display_data",
          "data": {
            "text/plain": [
              "<IPython.core.display.HTML object>"
            ],
            "text/html": [
              "\n",
              "     <input type=\"file\" id=\"files-e85a71cb-687b-4647-8fe5-e8781c7cf072\" name=\"files[]\" multiple disabled\n",
              "        style=\"border:none\" />\n",
              "     <output id=\"result-e85a71cb-687b-4647-8fe5-e8781c7cf072\">\n",
              "      Upload widget is only available when the cell has been executed in the\n",
              "      current browser session. Please rerun this cell to enable.\n",
              "      </output>\n",
              "      <script>// Copyright 2017 Google LLC\n",
              "//\n",
              "// Licensed under the Apache License, Version 2.0 (the \"License\");\n",
              "// you may not use this file except in compliance with the License.\n",
              "// You may obtain a copy of the License at\n",
              "//\n",
              "//      http://www.apache.org/licenses/LICENSE-2.0\n",
              "//\n",
              "// Unless required by applicable law or agreed to in writing, software\n",
              "// distributed under the License is distributed on an \"AS IS\" BASIS,\n",
              "// WITHOUT WARRANTIES OR CONDITIONS OF ANY KIND, either express or implied.\n",
              "// See the License for the specific language governing permissions and\n",
              "// limitations under the License.\n",
              "\n",
              "/**\n",
              " * @fileoverview Helpers for google.colab Python module.\n",
              " */\n",
              "(function(scope) {\n",
              "function span(text, styleAttributes = {}) {\n",
              "  const element = document.createElement('span');\n",
              "  element.textContent = text;\n",
              "  for (const key of Object.keys(styleAttributes)) {\n",
              "    element.style[key] = styleAttributes[key];\n",
              "  }\n",
              "  return element;\n",
              "}\n",
              "\n",
              "// Max number of bytes which will be uploaded at a time.\n",
              "const MAX_PAYLOAD_SIZE = 100 * 1024;\n",
              "\n",
              "function _uploadFiles(inputId, outputId) {\n",
              "  const steps = uploadFilesStep(inputId, outputId);\n",
              "  const outputElement = document.getElementById(outputId);\n",
              "  // Cache steps on the outputElement to make it available for the next call\n",
              "  // to uploadFilesContinue from Python.\n",
              "  outputElement.steps = steps;\n",
              "\n",
              "  return _uploadFilesContinue(outputId);\n",
              "}\n",
              "\n",
              "// This is roughly an async generator (not supported in the browser yet),\n",
              "// where there are multiple asynchronous steps and the Python side is going\n",
              "// to poll for completion of each step.\n",
              "// This uses a Promise to block the python side on completion of each step,\n",
              "// then passes the result of the previous step as the input to the next step.\n",
              "function _uploadFilesContinue(outputId) {\n",
              "  const outputElement = document.getElementById(outputId);\n",
              "  const steps = outputElement.steps;\n",
              "\n",
              "  const next = steps.next(outputElement.lastPromiseValue);\n",
              "  return Promise.resolve(next.value.promise).then((value) => {\n",
              "    // Cache the last promise value to make it available to the next\n",
              "    // step of the generator.\n",
              "    outputElement.lastPromiseValue = value;\n",
              "    return next.value.response;\n",
              "  });\n",
              "}\n",
              "\n",
              "/**\n",
              " * Generator function which is called between each async step of the upload\n",
              " * process.\n",
              " * @param {string} inputId Element ID of the input file picker element.\n",
              " * @param {string} outputId Element ID of the output display.\n",
              " * @return {!Iterable<!Object>} Iterable of next steps.\n",
              " */\n",
              "function* uploadFilesStep(inputId, outputId) {\n",
              "  const inputElement = document.getElementById(inputId);\n",
              "  inputElement.disabled = false;\n",
              "\n",
              "  const outputElement = document.getElementById(outputId);\n",
              "  outputElement.innerHTML = '';\n",
              "\n",
              "  const pickedPromise = new Promise((resolve) => {\n",
              "    inputElement.addEventListener('change', (e) => {\n",
              "      resolve(e.target.files);\n",
              "    });\n",
              "  });\n",
              "\n",
              "  const cancel = document.createElement('button');\n",
              "  inputElement.parentElement.appendChild(cancel);\n",
              "  cancel.textContent = 'Cancel upload';\n",
              "  const cancelPromise = new Promise((resolve) => {\n",
              "    cancel.onclick = () => {\n",
              "      resolve(null);\n",
              "    };\n",
              "  });\n",
              "\n",
              "  // Wait for the user to pick the files.\n",
              "  const files = yield {\n",
              "    promise: Promise.race([pickedPromise, cancelPromise]),\n",
              "    response: {\n",
              "      action: 'starting',\n",
              "    }\n",
              "  };\n",
              "\n",
              "  cancel.remove();\n",
              "\n",
              "  // Disable the input element since further picks are not allowed.\n",
              "  inputElement.disabled = true;\n",
              "\n",
              "  if (!files) {\n",
              "    return {\n",
              "      response: {\n",
              "        action: 'complete',\n",
              "      }\n",
              "    };\n",
              "  }\n",
              "\n",
              "  for (const file of files) {\n",
              "    const li = document.createElement('li');\n",
              "    li.append(span(file.name, {fontWeight: 'bold'}));\n",
              "    li.append(span(\n",
              "        `(${file.type || 'n/a'}) - ${file.size} bytes, ` +\n",
              "        `last modified: ${\n",
              "            file.lastModifiedDate ? file.lastModifiedDate.toLocaleDateString() :\n",
              "                                    'n/a'} - `));\n",
              "    const percent = span('0% done');\n",
              "    li.appendChild(percent);\n",
              "\n",
              "    outputElement.appendChild(li);\n",
              "\n",
              "    const fileDataPromise = new Promise((resolve) => {\n",
              "      const reader = new FileReader();\n",
              "      reader.onload = (e) => {\n",
              "        resolve(e.target.result);\n",
              "      };\n",
              "      reader.readAsArrayBuffer(file);\n",
              "    });\n",
              "    // Wait for the data to be ready.\n",
              "    let fileData = yield {\n",
              "      promise: fileDataPromise,\n",
              "      response: {\n",
              "        action: 'continue',\n",
              "      }\n",
              "    };\n",
              "\n",
              "    // Use a chunked sending to avoid message size limits. See b/62115660.\n",
              "    let position = 0;\n",
              "    do {\n",
              "      const length = Math.min(fileData.byteLength - position, MAX_PAYLOAD_SIZE);\n",
              "      const chunk = new Uint8Array(fileData, position, length);\n",
              "      position += length;\n",
              "\n",
              "      const base64 = btoa(String.fromCharCode.apply(null, chunk));\n",
              "      yield {\n",
              "        response: {\n",
              "          action: 'append',\n",
              "          file: file.name,\n",
              "          data: base64,\n",
              "        },\n",
              "      };\n",
              "\n",
              "      let percentDone = fileData.byteLength === 0 ?\n",
              "          100 :\n",
              "          Math.round((position / fileData.byteLength) * 100);\n",
              "      percent.textContent = `${percentDone}% done`;\n",
              "\n",
              "    } while (position < fileData.byteLength);\n",
              "  }\n",
              "\n",
              "  // All done.\n",
              "  yield {\n",
              "    response: {\n",
              "      action: 'complete',\n",
              "    }\n",
              "  };\n",
              "}\n",
              "\n",
              "scope.google = scope.google || {};\n",
              "scope.google.colab = scope.google.colab || {};\n",
              "scope.google.colab._files = {\n",
              "  _uploadFiles,\n",
              "  _uploadFilesContinue,\n",
              "};\n",
              "})(self);\n",
              "</script> "
            ]
          },
          "metadata": {}
        },
        {
          "output_type": "stream",
          "name": "stdout",
          "text": [
            "Saving dataset_hsbc to dataset_hsbc\n"
          ]
        }
      ]
    },
    {
      "cell_type": "code",
      "source": [
        "filename = list(uploaded.keys())[0]\n",
        "with open(filename, 'r') as f:\n",
        "    document = f.read()"
      ],
      "metadata": {
        "id": "cWtP9m9unZNP"
      },
      "execution_count": null,
      "outputs": []
    },
    {
      "cell_type": "code",
      "source": [
        "document_chunks = document.split('########')\n",
        "print('Number of texts:', len(document_chunks))"
      ],
      "metadata": {
        "colab": {
          "base_uri": "https://localhost:8080/"
        },
        "id": "cbWUXpnVobB9",
        "outputId": "a95a1e2d-4f07-43a9-9f69-a9652c163b08"
      },
      "execution_count": null,
      "outputs": [
        {
          "output_type": "stream",
          "name": "stdout",
          "text": [
            "Number of texts: 565\n"
          ]
        }
      ]
    },
    {
      "cell_type": "code",
      "source": [
        "import numpy as np\n",
        "from matplotlib import pyplot as plt\n",
        "\n",
        "chunks_sizes = [len(chunk) for chunk in document_chunks]\n",
        "percentile_50th = np.percentile(chunks_sizes, 50)\n",
        "plt.hist(chunks_sizes, bins=30)\n",
        "plt.title('Distribution of text-chunks length, with 50th percentile')\n",
        "plt.xlabel('Length of text-chunk in characters')\n",
        "plt.axvline(x = percentile_50th, color = 'red', linestyle = '--', alpha = 0.5)\n",
        "plt.gca().spines[['top', 'right',]].set_visible(False)\n",
        "plt.show();"
      ],
      "metadata": {
        "colab": {
          "base_uri": "https://localhost:8080/",
          "height": 472
        },
        "id": "WNXNaoHzq5sZ",
        "outputId": "f7993c62-e2bc-4006-84ad-1690f3087373"
      },
      "execution_count": null,
      "outputs": [
        {
          "output_type": "display_data",
          "data": {
            "text/plain": [
              "<Figure size 640x480 with 1 Axes>"
            ],
            "image/png": "[encoded data removed]"
          },
          "metadata": {}
        }
      ]
    },
    {
      "cell_type": "markdown",
      "source": [
        "## Run local llm\n",
        "Test simple query"
      ],
      "metadata": {
        "id": "Ooplt3-YJJRb"
      }
    },
    {
      "cell_type": "markdown",
      "source": [
        "About beluga https://huggingface.co/TheBloke/StableBeluga-7B-GGUF\n",
        "\n",
        "Documentation on ctransformers https://pypi.org/project/ctransformers/#documentation\n",
        "\n",
        "Parameters explained https://huggingface.co/blog/how-to-generate\n",
        "\n",
        "Alternatively how to run locally mistral 7b https://www.automatebard.com/2023/12/18/how-to-get-started-with-mistral-7b-tutorial/"
      ],
      "metadata": {
        "id": "iauNBjh33Llv"
      }
    },
    {
      "cell_type": "code",
      "source": [
        "!huggingface-cli download TheBloke/StableBeluga-7B-GGUF stablebeluga-7b.Q4_K_M.gguf --local-dir . --local-dir-use-symlinks False"
      ],
      "metadata": {
        "colab": {
          "base_uri": "https://localhost:8080/"
        },
        "id": "pFYUU4TlVm5B",
        "outputId": "edc6a449-c0a4-4634-db8a-273fb5bfd33e"
      },
      "execution_count": null,
      "outputs": [
        {
          "output_type": "stream",
          "name": "stdout",
          "text": [
            "Consider using `hf_transfer` for faster downloads. This solution comes with some limitations. See https://huggingface.co/docs/huggingface_hub/hf_transfer for more details.\n",
            "downloading https://huggingface.co/TheBloke/StableBeluga-7B-GGUF/resolve/main/stablebeluga-7b.Q4_K_M.gguf to /root/.cache/huggingface/hub/tmptj1fg05h\n",
            "stablebeluga-7b.Q4_K_M.gguf: 100% 4.08G/4.08G [01:26<00:00, 47.4MB/s]\n",
            "./stablebeluga-7b.Q4_K_M.gguf\n"
          ]
        }
      ]
    },
    {
      "cell_type": "code",
      "source": [
        "model_path = os.path.abspath('stablebeluga-7b.Q4_K_M.gguf')"
      ],
      "metadata": {
        "id": "8xyYJXzNWkTM"
      },
      "execution_count": null,
      "outputs": []
    },
    {
      "cell_type": "code",
      "source": [
        "# Documentation says this beluga input token limit is 4096. Define it.\n",
        "limit_input_tokens = 4096"
      ],
      "metadata": {
        "id": "FWWqhPQxAloP"
      },
      "execution_count": null,
      "outputs": []
    },
    {
      "cell_type": "code",
      "source": [
        "llm_ctrans = AutoModelForCausalLM.from_pretrained(model_path, local_files_only=True, gpu_layers=100, context_length=limit_input_tokens, model_type='llama', max_new_tokens=1024)"
      ],
      "metadata": {
        "id": "QfbuLzp559of"
      },
      "execution_count": null,
      "outputs": []
    },
    {
      "cell_type": "code",
      "source": [
        "%%time\n",
        "answer = llm_ctrans('Who is the smartest animal on Earth?', top_k=40, top_p=0.4, temperature=0.7)\n",
        "print(answer)"
      ],
      "metadata": {
        "id": "OLkktGtA6LhW",
        "colab": {
          "base_uri": "https://localhost:8080/"
        },
        "outputId": "cd79005d-202a-412a-8e7f-c50ef7bdaebe"
      },
      "execution_count": null,
      "outputs": [
        {
          "output_type": "stream",
          "name": "stdout",
          "text": [
            "\n",
            "The smartest animal on Earth, according to scientists, is the octopus. These intelligent creatures have been observed solving complex problems and using tools in their natural environment. They are also known for their ability to change color and texture to blend into their surroundings, which helps them avoid predators.\n",
            "Octopuses are highly adaptable and can learn from experience, making them one of the most intelligent animals on Earth.\n",
            "CPU times: user 6.17 s, sys: 46.5 ms, total: 6.21 s\n",
            "Wall time: 4.42 s\n"
          ]
        }
      ]
    },
    {
      "cell_type": "markdown",
      "source": [
        "This small model answered pretty quickly, utilizing 7GB GPU RAM. The answer is sane."
      ],
      "metadata": {
        "id": "qyqNnVjAL7DS"
      }
    },
    {
      "cell_type": "markdown",
      "source": [
        "## RAG (Retrieval Augmented Generation)\n",
        "Now retriving relevant HSBC information prepare a query for the language model.\n",
        "1. Define query variable.\n",
        "2. Encode into embedding space. Retrieve most similar chunks of text.\n",
        "3. Improve retrieved chunks of text via reranker - rearrange it in an improved order.\n",
        "4. Cook final query (instructions + best chunks + query) in order to feed it into the language model."
      ],
      "metadata": {
        "id": "3klGmAwEDxDY"
      }
    },
    {
      "cell_type": "code",
      "source": [
        "query = \"how do i get student loan\"\n",
        "llm_full_query = ''"
      ],
      "metadata": {
        "id": "3VwI3SmcZhca"
      },
      "execution_count": null,
      "outputs": []
    },
    {
      "cell_type": "markdown",
      "source": [
        "Initialize embedding model and reranker beforehand."
      ],
      "metadata": {
        "id": "1BlAqzrbTLi4"
      }
    },
    {
      "cell_type": "code",
      "source": [
        "embeddings_model_bge = FlagModel('BAAI/bge-base-en-v1.5',\n",
        "                       use_fp16=True) # Setting use_fp16 to True speeds up computation with a slight performance degradation"
      ],
      "metadata": {
        "id": "maa9zPqp1jKR"
      },
      "execution_count": null,
      "outputs": []
    },
    {
      "cell_type": "code",
      "source": [
        "reranker = FlagReranker('BAAI/bge-reranker-large', use_fp16=True) # Setting use_fp16 to True speeds up computation with a slight performance degradation"
      ],
      "metadata": {
        "id": "RNaWdHLy4idV"
      },
      "execution_count": null,
      "outputs": []
    },
    {
      "cell_type": "markdown",
      "source": [
        "## Run RAG"
      ],
      "metadata": {
        "id": "gUMZZ3XKSb1A"
      }
    },
    {
      "cell_type": "markdown",
      "source": [
        "Try bge https://huggingface.co/BAAI/bge-m3 - the best multilangual embeddings according to article https://towardsdatascience.com/openai-vs-open-source-multilingual-embedding-models-e5ccb7c90f05\n",
        "\n",
        "Try matryoshka https://huggingface.co/blog/matryoshka\n",
        "\n",
        "Nice article on search via embeddings using cohere https://medium.com/red-buffer/building-a-multilingual-cross-language-semantic-search-engine-using-cohere-76595ebc679e\n",
        "\n",
        "Try bert embeddings? https://www.analyticsvidhya.com/blog/2023/08/bert-embeddings/"
      ],
      "metadata": {
        "id": "jZ0r9txL4aSh"
      }
    },
    {
      "cell_type": "markdown",
      "source": [
        "Consider improved bge https://github.com/michaelfeil/infinity\n",
        "\n",
        "Reranker after retrieval https://github.com/FlagOpen/FlagEmbedding/tree/master/FlagEmbedding/reranker\n",
        "\n",
        "Explore also: https://github.com/huggingface/text-embeddings-inference"
      ],
      "metadata": {
        "id": "g27xkOSX4aFs"
      }
    },
    {
      "cell_type": "code",
      "source": [
        "## encode dataset\n",
        "embeddings_bge = embeddings_model_bge.encode(document_chunks)"
      ],
      "metadata": {
        "id": "5mgQaML-3dYm"
      },
      "execution_count": null,
      "outputs": []
    },
    {
      "cell_type": "code",
      "source": [
        "# save bge embeddings dictionary to person_data.pkl file\n",
        "with open('embeddings_bge_hsbc.pkl', 'wb') as fp:\n",
        "    pickle.dump(embeddings_bge, fp)\n",
        "    print('dictionary saved successfully to file')"
      ],
      "metadata": {
        "id": "McMgeAK33dYd"
      },
      "execution_count": null,
      "outputs": []
    },
    {
      "cell_type": "code",
      "source": [
        "with open('embeddings_bge_hsbc.pkl', 'rb') as fp:\n",
        "    embeddings_bge = pickle.load(fp)"
      ],
      "metadata": {
        "id": "giqxbM1Vz4b7"
      },
      "execution_count": null,
      "outputs": []
    },
    {
      "cell_type": "code",
      "source": [
        "bge_RAG_start = datetime.datetime.now()\n",
        "print(bge_RAG_start)"
      ],
      "metadata": {
        "id": "LQj1q1EDETQg"
      },
      "execution_count": null,
      "outputs": []
    },
    {
      "cell_type": "code",
      "source": [
        "emb_bge_query = embeddings_model_bge.encode([query])"
      ],
      "metadata": {
        "id": "oROlBTnm0hYC"
      },
      "execution_count": null,
      "outputs": []
    },
    {
      "cell_type": "code",
      "source": [
        "scores = emb_bge_query @ embeddings_bge.T\n",
        "scores = np.squeeze(scores)"
      ],
      "metadata": {
        "id": "NOGFWBg-0rp7"
      },
      "execution_count": null,
      "outputs": []
    },
    {
      "cell_type": "code",
      "source": [
        "max_idx = np.argsort(-scores)\n",
        "max_idx[:8]"
      ],
      "metadata": {
        "id": "ggpWrw8N896o"
      },
      "execution_count": null,
      "outputs": []
    },
    {
      "cell_type": "code",
      "source": [
        "print(f\"Query: {query}\")\n",
        "context_chunks_init = []\n",
        "context_scores = []\n",
        "for idx in max_idx[:8]:\n",
        "  print(f\"Score: {scores[idx]:.2f}\")\n",
        "  print(document_chunks[idx])\n",
        "  print(\"--------\")\n",
        "  context_chunks_init.append(document_chunks[idx])\n",
        "  context_scores.append(scores[idx])"
      ],
      "metadata": {
        "id": "fuRPAA_v2Dfd"
      },
      "execution_count": null,
      "outputs": []
    },
    {
      "cell_type": "markdown",
      "source": [
        "Now use reranker on the retrieved chunks of text."
      ],
      "metadata": {
        "id": "phZHoiIHTVfT"
      }
    },
    {
      "cell_type": "code",
      "source": [
        "# Test reranker to show it's capabilities. Returns similarity scores. With improved ranks.\n",
        "scores_test = reranker.compute_score([['what is panda?', 'hi'], ['what is panda?', 'The giant panda (Ailuropoda melanoleuca), sometimes called a panda bear or simply panda, is a bear species endemic to China.']])\n",
        "print(scores_test)"
      ],
      "metadata": {
        "id": "Dgllh5mwTDun"
      },
      "execution_count": null,
      "outputs": []
    },
    {
      "cell_type": "code",
      "source": [
        "# make pairs of query and chunks\n",
        "query_and_chunks = [[query, chunk] for chunk in context_chunks_init]"
      ],
      "metadata": {
        "id": "W8O4-B3F4yTv"
      },
      "execution_count": null,
      "outputs": []
    },
    {
      "cell_type": "code",
      "source": [
        "scores_reranker = reranker.compute_score(query_and_chunks)\n",
        "print(scores_reranker)"
      ],
      "metadata": {
        "id": "URNQfNks5NFo"
      },
      "execution_count": null,
      "outputs": []
    },
    {
      "cell_type": "code",
      "source": [
        "# indexes sorted according to new rank\n",
        "max_idx_reranked = np.argsort(-np.array(scores_reranker))\n",
        "print(max_idx_reranked)"
      ],
      "metadata": {
        "id": "RpIcjK7b5pGr"
      },
      "execution_count": null,
      "outputs": []
    },
    {
      "cell_type": "code",
      "source": [
        "print(f\"Query: {query}\")\n",
        "context_chunks = []\n",
        "for idx in max_idx_reranked:\n",
        "  print(f\"Score: {scores_reranker[idx]:.2f}\")\n",
        "  print(context_chunks_init[idx])\n",
        "  print(\"--------\")\n",
        "  context_chunks.append(context_chunks_init[idx])"
      ],
      "metadata": {
        "id": "je05CsAJ515Y"
      },
      "execution_count": null,
      "outputs": []
    },
    {
      "cell_type": "markdown",
      "source": [
        "Order of retrieved chunks improved and became more relevant!\n",
        "\n",
        "Now define prompt template and create final query from reranked chunks in order to feed it to our local llm."
      ],
      "metadata": {
        "id": "jeaDR5CR9TzQ"
      }
    },
    {
      "cell_type": "code",
      "source": [
        "prompt_template = \"\"\"You are a professional consultant at HSBC UK Bank.\n",
        "Use the context to answer the question at the end.\n",
        "Give a very detailed answer.\n",
        "Never mention about context and where information comes from.\n",
        "\n",
        "Context:\n",
        "{context}\n",
        "\n",
        "Question: {question}\n",
        "\n",
        "Answer:\"\"\""
      ],
      "metadata": {
        "id": "oCHXakaQX7fk"
      },
      "execution_count": null,
      "outputs": []
    },
    {
      "cell_type": "code",
      "source": [
        "context_chunks_as_str = '\\n###\\n'.join([str(elem) for elem in context_chunks])\n",
        "llm_full_query = prompt_template.format(context=context_chunks_as_str, question=query)"
      ],
      "metadata": {
        "id": "-u-ynZxaeSNY"
      },
      "execution_count": null,
      "outputs": []
    },
    {
      "cell_type": "markdown",
      "source": [
        "Ensure num of input tokens does not exceed limit.\n",
        "\n",
        "How to calculate num of tokens: https://github.com/openai/openai-cookbook/blob/main/examples/How_to_count_tokens_with_tiktoken.ipynb"
      ],
      "metadata": {
        "id": "CvJWKtYlWnJT"
      }
    },
    {
      "cell_type": "code",
      "source": [
        "encoding = tiktoken.get_encoding(\"p50k_base\")\n",
        "num_tokens_template = len(encoding.encode(prompt_template))\n",
        "num_tokens = len(encoding.encode(llm_full_query))\n",
        "print('num_tokens', num_tokens)"
      ],
      "metadata": {
        "id": "CPFSAkFwePtg"
      },
      "execution_count": null,
      "outputs": []
    },
    {
      "cell_type": "code",
      "source": [
        "# The logic checks if highest initial score is high enough (0.45), and is relevant to HSBC Bank services.\n",
        "# Also more complex logic is implemented to ensure the full llm query does not exceeds input token limit\n",
        "# i.e. finall llm query is cooked with size < limit_input_tokens\n",
        "correction_num_of_tokens = 500 # additionally decrease num of tokens by this number\n",
        "\n",
        "if context_scores[0]<0.45:\n",
        "  llm_full_query = 'I am HSBC UK Bank assistant and can answer questions related to our Bank. If you have any questions regarding banking services, I will be happy to help. \\nPlease formulate your request.'\n",
        "else:\n",
        "  num_of_chunks = len(context_chunks)\n",
        "  for iter in range(num_of_chunks):\n",
        "    print('context_chunks len:', len(context_chunks))\n",
        "    context_chunks_as_str = '\\n###\\n'.join([str(elem) for elem in context_chunks])\n",
        "    llm_full_query = prompt_template.format(context=context_chunks_as_str, question=query)\n",
        "    encoding = tiktoken.get_encoding(\"p50k_base\")\n",
        "    num_tokens_template = len(encoding.encode(prompt_template))\n",
        "    num_tokens = len(encoding.encode(llm_full_query))\n",
        "    print('num_tokens', num_tokens)\n",
        "\n",
        "    if len(context_chunks) == 1 and num_tokens > limit_input_tokens - correction_num_of_tokens:\n",
        "      chunk_appendix = '\\n\\nMore details:'\n",
        "      extracted_link = re.search(r'https://.+', context_chunks[0][-100:]).group(0)\n",
        "      chunk_appendix = chunk_appendix + ' ' + extracted_link\n",
        "      num_of_chars_to_cut = num_tokens - limit_input_tokens + num_tokens_template + correction_num_of_tokens\n",
        "      context_chunks[0] = context_chunks[0][:-num_of_chars_to_cut]\n",
        "      context_chunks[0] = context_chunks[0] + chunk_appendix\n",
        "      context_chunks_as_str = '\\n###\\n'.join([str(elem) for elem in context_chunks])\n",
        "      llm_full_query = prompt_template.format(context=context_chunks_as_str, question=query)\n",
        "      num_tokens = len(encoding.encode(llm_full_query))\n",
        "    elif num_tokens > limit_input_tokens - correction_num_of_tokens:\n",
        "      print('context_chunks before truncating:', len(context_chunks))\n",
        "      context_chunks = context_chunks[:-1]\n",
        "      print('context_chunks after truncating:', len(context_chunks))\n",
        "      print(iter)\n",
        "\n",
        "print('Num of context chunks:', len(context_chunks))\n",
        "encoding = tiktoken.get_encoding(\"p50k_base\")\n",
        "num_tokens = len(encoding.encode(llm_full_query))\n",
        "print('Number of tokens in final query: ', num_tokens)"
      ],
      "metadata": {
        "id": "puONH7o4X7-V"
      },
      "execution_count": null,
      "outputs": []
    },
    {
      "cell_type": "code",
      "source": [
        "# Show final query:\n",
        "#print(llm_full_query)"
      ],
      "metadata": {
        "id": "Swfvr-FaYo7j"
      },
      "execution_count": null,
      "outputs": []
    },
    {
      "cell_type": "markdown",
      "source": [
        "## Quering the model\n",
        "Note parameters top_k, top_p, and temperature - can be tuned to improve results.\n",
        "\n",
        "Parameters explained:\n",
        "- https://huggingface.co/blog/how-to-generate\n",
        "- https://www.linkedin.com/pulse/large-language-model-settings-temperature-top-p-max-tokens-albert-mao-0c6ie/"
      ],
      "metadata": {
        "id": "33LG5mCOKwjL"
      }
    },
    {
      "cell_type": "code",
      "source": [
        "print('The question:', query)"
      ],
      "metadata": {
        "colab": {
          "base_uri": "https://localhost:8080/"
        },
        "id": "fRUqOw5KYVmk",
        "outputId": "c5a8a9c8-3636-4fbf-98cf-ff359eb594db"
      },
      "execution_count": null,
      "outputs": [
        {
          "output_type": "stream",
          "name": "stdout",
          "text": [
            "The question: Give me a hefty loan!\n"
          ]
        }
      ]
    },
    {
      "cell_type": "code",
      "source": [
        "%%time\n",
        "answer = llm_ctrans(llm_full_query, top_k=40, top_p=0.4, temperature=0.7)\n",
        "print(answer)"
      ],
      "metadata": {
        "colab": {
          "base_uri": "https://localhost:8080/"
        },
        "id": "X2DCY251Zk0w",
        "outputId": "8f9acf7a-bccd-496f-9b30-b627fb2af257"
      },
      "execution_count": null,
      "outputs": [
        {
          "output_type": "stream",
          "name": "stdout",
          "text": [
            " You can borrow between £1,000 to £25,000 with fixed monthly payments of up to 60 months for loans up to £15,000, or up to 96 months for loans over £15,000.\n",
            "CPU times: user 4min 25s, sys: 1min 1s, total: 5min 27s\n",
            "Wall time: 3min 5s\n"
          ]
        }
      ]
    },
    {
      "cell_type": "code",
      "source": [
        "llm_answer = answer.strip()\n",
        "# # Logic to ensure the links are provided at the end of the answer.\n",
        "llm_answer_appendix = ''\n",
        "if 'https://' not in llm_answer[-100:]:\n",
        "  llm_answer_appendix = '\\n\\nMore details:'\n",
        "  for chunk in context_chunks[:3] if len(context_chunks)>=4 else context_chunks:\n",
        "    topic = chunk.split('\\n')[1]\n",
        "    extracted_link = re.search(r'https://.+', chunk[-100:]).group(0)\n",
        "    llm_answer_appendix = llm_answer_appendix + '\\n - ' + topic + ' ' + extracted_link\n",
        "llm_answer = llm_answer + llm_answer_appendix\n",
        "\n",
        "print(llm_answer)"
      ],
      "metadata": {
        "colab": {
          "base_uri": "https://localhost:8080/"
        },
        "id": "IveJzBJnko3D",
        "outputId": "a685d22d-e0f0-4306-a843-ed62806a1e6f"
      },
      "execution_count": null,
      "outputs": [
        {
          "output_type": "stream",
          "name": "stdout",
          "text": [
            "You can borrow between £1,000 to £25,000 with fixed monthly payments of up to 60 months for loans up to £15,000, or up to 96 months for loans over £15,000.\n",
            "More details:\n",
            " - Wedding Loans  https://www.hsbc.co.uk/loans/products/wedding-loan/\n",
            " - Personal Loan  https://www.hsbc.co.uk/loans/products/personal/\n"
          ]
        }
      ]
    }
  ]
}